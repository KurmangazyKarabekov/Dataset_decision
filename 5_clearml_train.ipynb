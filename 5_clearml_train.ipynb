{
 "cells": [
  {
   "cell_type": "code",
   "execution_count": 14,
   "metadata": {},
   "outputs": [],
   "source": [
    "import pandas as pd\n",
    "import numpy as np\n",
    "from math import sqrt\n",
    "\n",
    "from clearml import Task\n",
    "import argparse\n",
    "\n",
    "import seaborn as sns\n",
    "import matplotlib.pyplot as plt\n",
    "\n",
    "from catboost import CatBoostRegressor\n",
    "\n",
    "from sklearn.preprocessing import StandardScaler, OneHotEncoder\n",
    "from sklearn.metrics import mean_absolute_error, mean_squared_error\n",
    "from sklearn.model_selection import train_test_split, cross_val_score"
   ]
  },
  {
   "cell_type": "code",
   "execution_count": 8,
   "metadata": {},
   "outputs": [
    {
     "name": "stdout",
     "output_type": "stream",
     "text": [
      "ClearML Task: created new task id=4591cc2341c74217a5ccf2943ee18794\n",
      "2023-12-29 18:49:33,840 - clearml.Task - INFO - Storing jupyter notebook directly as code\n",
      "ClearML results page: https://app.clear.ml/projects/1db2548eb69c4c26883ef321cdc663bf/experiments/4591cc2341c74217a5ccf2943ee18794/output/log\n"
     ]
    },
    {
     "name": "stdout",
     "output_type": "stream",
     "text": [
      "ClearML Monitor: GPU monitoring failed getting GPU reading, switching off GPU monitoring\n",
      "ClearML Monitor: Could not detect iteration reporting, falling back to iterations as seconds-from-start\n"
     ]
    }
   ],
   "source": [
    "task = Task.init(project_name=\"Dataset_g5\", task_name=\"Catboost_train\")"
   ]
  },
  {
   "cell_type": "code",
   "execution_count": 18,
   "metadata": {},
   "outputs": [],
   "source": [
    "parser = argparse.ArgumentParser()\n",
    "parser.add_argument(\"-iterations\", default=30, help=\"iterations boosting\")\n",
    "parser.add_argument(\"-depth\", default=3, help=\"depth tree\")\n",
    "parser.add_argument(\"-loss_function\", default=\"MAE\", help=\"loss function\")\n",
    "\n",
    "args = parser.parse_known_args()"
   ]
  },
  {
   "cell_type": "code",
   "execution_count": 9,
   "metadata": {},
   "outputs": [],
   "source": [
    "def prepare_obj_data(df, obj_cols):\n",
    "    \"\"\"\n",
    "    Prepare data with type object\n",
    "\n",
    "    Args:\n",
    "        df: pd.DataFrame\n",
    "        obj_cols: list of str\n",
    "    Returns:\n",
    "        pd.DataFrame\n",
    "    \"\"\"\n",
    "\n",
    "    cheat_count_is_cheater = df[\"is_cheater\"].value_counts().index[0]\n",
    "    cheat_count_has_email = df[\"has_email\"].value_counts().index[0]\n",
    "\n",
    "    df[\"is_cheater\"] = df[\"is_cheater\"].fillna(cheat_count_is_cheater)\n",
    "    df[\"has_email\"] = df[\"has_email\"].fillna(cheat_count_has_email)\n",
    "\n",
    "    df[\"country\"] = df[\"country\"].fillna(\"other\")\n",
    "    df[\"network_name\"] = df[\"network_name\"].fillna(\"other\")\n",
    "\n",
    "    encoder = OneHotEncoder(sparse=False, handle_unknown=\"ignore\")\n",
    "    for column in obj_cols:\n",
    "        encoded_data = encoder.fit_transform(df[[column]])\n",
    "        encoded_df = pd.DataFrame(\n",
    "            encoded_data, columns=encoder.get_feature_names_out([column])\n",
    "        )\n",
    "        df = pd.concat([df, encoded_df], axis=1)\n",
    "\n",
    "    df.drop(obj_cols, axis=1, inplace=True)\n",
    "\n",
    "    return df"
   ]
  },
  {
   "cell_type": "code",
   "execution_count": 10,
   "metadata": {},
   "outputs": [],
   "source": [
    "def plot_importance(model, X):\n",
    "    \"\"\"\n",
    "    Function for plot regression coef\n",
    "    \"\"\"\n",
    "    try:\n",
    "        fold_importance_df = pd.DataFrame()\n",
    "        fold_importance_df[\"feature\"] = X.columns\n",
    "        fold_importance_df[\"importance\"] = model.feature_importances_\n",
    "        td = fold_importance_df.sort_values(\"importance\", ascending=False)\n",
    "        sns.barplot(x=\"importance\", y=\"feature\", data=td.head(10), palette=\"Blues_d\")\n",
    "        plt.show()\n",
    "    except:\n",
    "        return []\n",
    "\n",
    "\n",
    "def SMAPE(y_true, y_pred):\n",
    "    \"\"\"\n",
    "    SMAPE score\n",
    "    \"\"\"\n",
    "    denominator = np.abs(y_true) + np.abs(y_pred)\n",
    "    diff = np.where(denominator == 0, 0, 2 * np.abs(y_true - y_pred) / denominator)\n",
    "    return np.mean(diff)\n",
    "\n",
    "\n",
    "def custom_smape_score(estimator, X, y):\n",
    "    \"\"\"\n",
    "    SMAP for cross-validation\n",
    "    \"\"\"\n",
    "    y_pred = estimator.predict(X)\n",
    "    smape = SMAPE(y, y_pred)\n",
    "    return -smape\n",
    "\n",
    "\n",
    "def train_model(model_obj, X_train, y_train, num_folds, scoring, cross_val=False):\n",
    "    \"\"\"\n",
    "    Train model\n",
    "    \"\"\"\n",
    "    model = model_obj\n",
    "    print(model.fit(X_train, y_train, verbose=50, plot=True))\n",
    "\n",
    "    if cross_val:\n",
    "        cv_scores = cross_val_score(\n",
    "            model, X_train, y_train, cv=num_folds, scoring=scoring\n",
    "        )\n",
    "        print(\"Cross_validation:\", cv_scores)\n",
    "\n",
    "    td = plot_importance(model, X_train)\n",
    "\n",
    "    return model, td"
   ]
  },
  {
   "cell_type": "code",
   "execution_count": 11,
   "metadata": {},
   "outputs": [],
   "source": [
    "df = pd.read_csv(\"dataset.csv\", index_col=0)\n",
    "\n",
    "df.drop(\n",
    "    [\"date_install\", \"first_command_time\", \"birthday\", \"sex\", \"time_confirm_email\"],\n",
    "    axis=1,\n",
    "    inplace=True,\n",
    ")\n",
    "int_cols = df.select_dtypes(include=[\"int\", \"float\"]).columns\n",
    "int_cols = int_cols.drop(\"target_game_currency\")\n",
    "obj_cols = [\"country\", \"network_name\"]\n"
   ]
  },
  {
   "cell_type": "code",
   "execution_count": 12,
   "metadata": {},
   "outputs": [
    {
     "name": "stderr",
     "output_type": "stream",
     "text": [
      "/Users/kurmangazykarabekov/anaconda3/lib/python3.11/site-packages/sklearn/preprocessing/_encoders.py:972: FutureWarning:\n",
      "\n",
      "`sparse` was renamed to `sparse_output` in version 1.2 and will be removed in 1.4. `sparse_output` is ignored unless you leave `sparse` to its default value.\n",
      "\n",
      "/Users/kurmangazykarabekov/anaconda3/lib/python3.11/site-packages/sklearn/preprocessing/_encoders.py:972: FutureWarning:\n",
      "\n",
      "`sparse` was renamed to `sparse_output` in version 1.2 and will be removed in 1.4. `sparse_output` is ignored unless you leave `sparse` to its default value.\n",
      "\n"
     ]
    }
   ],
   "source": [
    "df = prepare_obj_data(df, obj_cols)\n",
    "X = df.drop(\"target_game_currency\", axis=1)\n",
    "y = df[\"target_game_currency\"]\n",
    "\n",
    "y_stratified = (y > 0).astype(int)\n",
    "X_train, X_test, y_train, y_test = train_test_split(\n",
    "    X, y, test_size=0.10, stratify=y_stratified, random_state=42\n",
    ")"
   ]
  },
  {
   "cell_type": "code",
   "execution_count": 19,
   "metadata": {},
   "outputs": [],
   "source": [
    "params = {\n",
    "    \"iterations\": 230,\n",
    "    \"depth\": 3,\n",
    "    \"loss_function\": \"MAE\",\n",
    "    \"random_state\": 42,\n",
    "    \"l2_leaf_reg\": 20,\n",
    "    \"verbose\": 50,\n",
    "    \"early_stopping_rounds\": 20,\n",
    "    \"thread_count\": -1,\n",
    "}"
   ]
  },
  {
   "cell_type": "code",
   "execution_count": 20,
   "metadata": {},
   "outputs": [
    {
     "data": {
      "text/plain": [
       "{'iterations': 230,\n",
       " 'depth': 3,\n",
       " 'loss_function': 'MAE',\n",
       " 'random_state': 42,\n",
       " 'l2_leaf_reg': 20,\n",
       " 'verbose': 50,\n",
       " 'early_stopping_rounds': 20,\n",
       " 'thread_count': -1}"
      ]
     },
     "execution_count": 20,
     "metadata": {},
     "output_type": "execute_result"
    }
   ],
   "source": [
    "task.connect(params)"
   ]
  },
  {
   "cell_type": "code",
   "execution_count": 22,
   "metadata": {},
   "outputs": [
    {
     "data": {
      "application/vnd.jupyter.widget-view+json": {
       "model_id": "16a3b3097cb8453d80823cd2b7695774",
       "version_major": 2,
       "version_minor": 0
      },
      "text/plain": [
       "MetricVisualizer(layout=Layout(align_self='stretch', height='500px'))"
      ]
     },
     "metadata": {},
     "output_type": "display_data"
    },
    {
     "name": "stdout",
     "output_type": "stream",
     "text": [
      "0:\tlearn: 484.1682889\ttotal: 129ms\tremaining: 29.5s\n",
      "50:\tlearn: 433.8854273\ttotal: 2.35s\tremaining: 8.25s\n",
      "100:\tlearn: 428.9690557\ttotal: 4.45s\tremaining: 5.69s\n",
      "150:\tlearn: 428.4892535\ttotal: 6.67s\tremaining: 3.49s\n",
      "200:\tlearn: 427.9060742\ttotal: 8.79s\tremaining: 1.27s\n",
      "229:\tlearn: 427.5022304\ttotal: 10.1s\tremaining: 0us\n",
      "<catboost.core.CatBoostRegressor object at 0x17b402d50>\n",
      "0:\tlearn: 488.9098849\ttotal: 65ms\tremaining: 14.9s\n",
      "50:\tlearn: 437.3353180\ttotal: 2.22s\tremaining: 7.79s\n",
      "100:\tlearn: 431.6915648\ttotal: 3.89s\tremaining: 4.97s\n",
      "150:\tlearn: 430.5938317\ttotal: 6.27s\tremaining: 3.28s\n",
      "200:\tlearn: 430.1702938\ttotal: 8.27s\tremaining: 1.19s\n",
      "229:\tlearn: 430.0639143\ttotal: 9.24s\tremaining: 0us\n",
      "0:\tlearn: 486.9009092\ttotal: 92.3ms\tremaining: 21.1s\n",
      "50:\tlearn: 436.7346234\ttotal: 1.95s\tremaining: 6.85s\n",
      "100:\tlearn: 432.6951143\ttotal: 3.65s\tremaining: 4.66s\n",
      "150:\tlearn: 431.1393834\ttotal: 5.3s\tremaining: 2.77s\n",
      "200:\tlearn: 430.7188505\ttotal: 7.01s\tremaining: 1.01s\n",
      "229:\tlearn: 430.7100463\ttotal: 8.07s\tremaining: 0us\n",
      "0:\tlearn: 482.8489335\ttotal: 43.5ms\tremaining: 9.96s\n",
      "50:\tlearn: 432.8772796\ttotal: 1.82s\tremaining: 6.4s\n",
      "100:\tlearn: 428.3796872\ttotal: 3.5s\tremaining: 4.47s\n",
      "150:\tlearn: 427.7214164\ttotal: 5.17s\tremaining: 2.7s\n",
      "200:\tlearn: 427.2823732\ttotal: 6.82s\tremaining: 984ms\n",
      "229:\tlearn: 427.0467304\ttotal: 7.77s\tremaining: 0us\n",
      "0:\tlearn: 489.9957884\ttotal: 42ms\tremaining: 9.61s\n",
      "50:\tlearn: 442.0240588\ttotal: 1.73s\tremaining: 6.07s\n",
      "100:\tlearn: 436.2372611\ttotal: 3.38s\tremaining: 4.32s\n",
      "150:\tlearn: 435.1489874\ttotal: 5.06s\tremaining: 2.65s\n",
      "200:\tlearn: 434.8422178\ttotal: 6.73s\tremaining: 971ms\n",
      "229:\tlearn: 434.4679414\ttotal: 7.69s\tremaining: 0us\n",
      "0:\tlearn: 471.8314515\ttotal: 65.4ms\tremaining: 15s\n",
      "50:\tlearn: 421.8151064\ttotal: 1.75s\tremaining: 6.14s\n",
      "100:\tlearn: 419.4796734\ttotal: 3.4s\tremaining: 4.34s\n",
      "150:\tlearn: 417.6793637\ttotal: 5.04s\tremaining: 2.64s\n",
      "200:\tlearn: 417.5245545\ttotal: 6.69s\tremaining: 965ms\n",
      "229:\tlearn: 417.5245545\ttotal: 7.64s\tremaining: 0us\n",
      "Cross_validation: [-417.19417448 -418.47560015 -434.83371395 -403.77859593 -478.60685987]\n"
     ]
    },
    {
     "data": {
      "image/png": "[encoded data removed]",
      "text/plain": [
       "<Figure size 640x480 with 1 Axes>"
      ]
     },
     "metadata": {},
     "output_type": "display_data"
    }
   ],
   "source": [
    "\n",
    "\n",
    "model, features = train_model(\n",
    "    CatBoostRegressor(**params),\n",
    "    X_train,\n",
    "    y_train,\n",
    "    5,\n",
    "    scoring=\"neg_mean_absolute_error\",\n",
    "    cross_val=True,\n",
    ")"
   ]
  },
  {
   "cell_type": "code",
   "execution_count": null,
   "metadata": {},
   "outputs": [],
   "source": []
  }
 ],
 "metadata": {
  "kernelspec": {
   "display_name": "base",
   "language": "python",
   "name": "python3"
  },
  "language_info": {
   "codemirror_mode": {
    "name": "ipython",
    "version": 3
   },
   "file_extension": ".py",
   "mimetype": "text/x-python",
   "name": "python",
   "nbconvert_exporter": "python",
   "pygments_lexer": "ipython3",
   "version": "3.11.3"
  }
 },
 "nbformat": 4,
 "nbformat_minor": 2
}
