{
 "cells": [
  {
   "cell_type": "code",
   "execution_count": 1,
   "metadata": {},
   "outputs": [],
   "source": [
    "import pandas as pd \n",
    "import numpy as np \n",
    "\n",
    "import seaborn as sns\n",
    "import matplotlib.pyplot as plt\n",
    "\n",
    "from catboost import CatBoostRegressor\n",
    "\n",
    "from sklearn.preprocessing import LabelEncoder\n",
    "from sklearn.metrics import mean_absolute_error, mean_squared_error\n",
    "from sklearn.model_selection import train_test_split, cross_val_score\n"
   ]
  },
  {
   "cell_type": "code",
   "execution_count": 2,
   "metadata": {},
   "outputs": [],
   "source": [
    "pd.set_option('display.max_columns', None)"
   ]
  },
  {
   "cell_type": "code",
   "execution_count": 3,
   "metadata": {},
   "outputs": [],
   "source": [
    "df = pd.read_csv('dataset.csv',index_col=0)"
   ]
  },
  {
   "cell_type": "markdown",
   "metadata": {},
   "source": [
    "# Prepare data"
   ]
  },
  {
   "cell_type": "code",
   "execution_count": 4,
   "metadata": {},
   "outputs": [],
   "source": [
    "int_cols = df.select_dtypes(include=['int', 'float']).columns\n",
    "int_cols = int_cols.drop('target_game_currency')\n",
    "obj_cols = ['country','network_name','sex','is_cheater','has_email']"
   ]
  },
  {
   "cell_type": "code",
   "execution_count": 5,
   "metadata": {},
   "outputs": [],
   "source": [
    "def prepare_obj_data(df, obj_cols):\n",
    "    '''\n",
    "    Подготовка колонрк с типом данных object\n",
    "    \n",
    "    Arg:\n",
    "        df: pd.DataFrame\n",
    "        obj_col: str \n",
    "    Return:\n",
    "        pd.DataFrame\n",
    "    '''\n",
    "    label_encoder = LabelEncoder()\n",
    "    for column in df[obj_cols]:\n",
    "        encoded_column = label_encoder.fit_transform(df[column])\n",
    "        new_column_name = column + \"_level\"\n",
    "        df[new_column_name] = encoded_column\n",
    "    df.drop(obj_cols,axis=1,inplace=True)\n",
    "        \n",
    "    return df"
   ]
  },
  {
   "cell_type": "code",
   "execution_count": 6,
   "metadata": {},
   "outputs": [],
   "source": [
    "df = prepare_obj_data(df, obj_cols)"
   ]
  },
  {
   "cell_type": "code",
   "execution_count": 7,
   "metadata": {},
   "outputs": [],
   "source": [
    "df.drop(['date_install','first_command_time','birthday','time_confirm_email'],axis=1,inplace=True)"
   ]
  },
  {
   "cell_type": "code",
   "execution_count": 8,
   "metadata": {},
   "outputs": [],
   "source": [
    "X = df.drop('target_game_currency', axis = 1)\n",
    "y = df['target_game_currency']"
   ]
  },
  {
   "cell_type": "code",
   "execution_count": 3,
   "metadata": {},
   "outputs": [
    {
     "ename": "NameError",
     "evalue": "name 'y' is not defined",
     "output_type": "error",
     "traceback": [
      "\u001b[0;31m---------------------------------------------------------------------------\u001b[0m",
      "\u001b[0;31mNameError\u001b[0m                                 Traceback (most recent call last)",
      "\u001b[1;32m/Users/kurmangazykarabekov/Desktop/Projects/dataset/3_Boosting.ipynb Cell 10\u001b[0m line \u001b[0;36m1\n\u001b[0;32m----> <a href='vscode-notebook-cell:/Users/kurmangazykarabekov/Desktop/Projects/dataset/3_Boosting.ipynb#X12sZmlsZQ%3D%3D?line=0'>1</a>\u001b[0m y_stratified \u001b[39m=\u001b[39m (y \u001b[39m>\u001b[39m \u001b[39m0\u001b[39m)\u001b[39m.\u001b[39mastype(\u001b[39mint\u001b[39m)\n\u001b[1;32m      <a href='vscode-notebook-cell:/Users/kurmangazykarabekov/Desktop/Projects/dataset/3_Boosting.ipynb#X12sZmlsZQ%3D%3D?line=1'>2</a>\u001b[0m X_train, X_test, y_train, y_test \u001b[39m=\u001b[39m train_test_split(X, y, test_size\u001b[39m=\u001b[39m\u001b[39m0.33\u001b[39m, stratify\u001b[39m=\u001b[39my_stratified, random_state\u001b[39m=\u001b[39m\u001b[39m42\u001b[39m)\n",
      "\u001b[0;31mNameError\u001b[0m: name 'y' is not defined"
     ]
    }
   ],
   "source": [
    "y_stratified = (y > 0).astype(int)\n",
    "X_train, X_test, y_train, y_test = train_test_split(X, y, test_size=0.33, stratify=y_stratified, random_state=42)\n"
   ]
  },
  {
   "cell_type": "code",
   "execution_count": 2,
   "metadata": {},
   "outputs": [
    {
     "ename": "NameError",
     "evalue": "name 'y_train' is not defined",
     "output_type": "error",
     "traceback": [
      "\u001b[0;31m---------------------------------------------------------------------------\u001b[0m",
      "\u001b[0;31mNameError\u001b[0m                                 Traceback (most recent call last)",
      "\u001b[1;32m/Users/kurmangazykarabekov/Desktop/Projects/dataset/3_Boosting.ipynb Cell 11\u001b[0m line \u001b[0;36m1\n\u001b[0;32m----> <a href='vscode-notebook-cell:/Users/kurmangazykarabekov/Desktop/Projects/dataset/3_Boosting.ipynb#X25sZmlsZQ%3D%3D?line=0'>1</a>\u001b[0m y_train\n",
      "\u001b[0;31mNameError\u001b[0m: name 'y_train' is not defined"
     ]
    }
   ],
   "source": [
    "y_train"
   ]
  },
  {
   "cell_type": "code",
   "execution_count": 1,
   "metadata": {},
   "outputs": [
    {
     "ename": "NameError",
     "evalue": "name 'y_train' is not defined",
     "output_type": "error",
     "traceback": [
      "\u001b[0;31m---------------------------------------------------------------------------\u001b[0m",
      "\u001b[0;31mNameError\u001b[0m                                 Traceback (most recent call last)",
      "\u001b[1;32m/Users/kurmangazykarabekov/Desktop/Projects/dataset/3_Boosting.ipynb Cell 11\u001b[0m line \u001b[0;36m1\n\u001b[0;32m----> <a href='vscode-notebook-cell:/Users/kurmangazykarabekov/Desktop/Projects/dataset/3_Boosting.ipynb#X24sZmlsZQ%3D%3D?line=0'>1</a>\u001b[0m y_train_binary \u001b[39m=\u001b[39m (y_train \u001b[39m>\u001b[39m \u001b[39m0\u001b[39m)\u001b[39m.\u001b[39mastype(\u001b[39mint\u001b[39m)\n\u001b[1;32m      <a href='vscode-notebook-cell:/Users/kurmangazykarabekov/Desktop/Projects/dataset/3_Boosting.ipynb#X24sZmlsZQ%3D%3D?line=1'>2</a>\u001b[0m y_test_binary \u001b[39m=\u001b[39m (y_test \u001b[39m>\u001b[39m \u001b[39m0\u001b[39m)\u001b[39m.\u001b[39mastype(\u001b[39mint\u001b[39m)\n",
      "\u001b[0;31mNameError\u001b[0m: name 'y_train' is not defined"
     ]
    }
   ],
   "source": [
    "y_train_binary = (y_train > 0).astype(int)\n",
    "y_test_binary = (y_test > 0).astype(int)"
   ]
  },
  {
   "cell_type": "markdown",
   "metadata": {},
   "source": [
    "## Catboost"
   ]
  },
  {
   "cell_type": "code",
   "execution_count": 10,
   "metadata": {},
   "outputs": [],
   "source": [
    "def plot_importance(model, X):\n",
    "    '''\n",
    "    Function for plot regression coef\n",
    "    '''\n",
    "    try:\n",
    "        fold_importance_df = pd.DataFrame()\n",
    "        fold_importance_df[\"feature\"] = X.columns\n",
    "        fold_importance_df[\"importance\"] = model.feature_importances_\n",
    "        td = fold_importance_df.sort_values('importance', ascending=False)\n",
    "        sns.barplot(x=\"importance\", y=\"feature\", data=td.head(10), palette=\"Blues_d\")\n",
    "        plt.show()\n",
    "    except:\n",
    "        return []"
   ]
  },
  {
   "cell_type": "code",
   "execution_count": 11,
   "metadata": {},
   "outputs": [],
   "source": [
    "def SMAPE(y_true, y_pred):\n",
    "    \"\"\"\n",
    "    SMAPE score\n",
    "    \"\"\"\n",
    "    denominator = (np.abs(y_true) + np.abs(y_pred))\n",
    "    diff = np.where(denominator == 0, 0, 2 * np.abs(y_true - y_pred) / denominator)\n",
    "    return np.mean(diff)\n",
    "\n",
    "\n",
    "def custom_smape_score(estimator, X, y):\n",
    "    '''\n",
    "    SMAP for cross-validation\n",
    "    '''\n",
    "    y_pred = estimator.predict(X)\n",
    "    smape = SMAPE(y, y_pred)\n",
    "    return -smape"
   ]
  },
  {
   "cell_type": "code",
   "execution_count": 17,
   "metadata": {},
   "outputs": [],
   "source": [
    "def train_model(model_obj, X_train, y_train, num_folds ,cross_val = False):\n",
    "    '''\n",
    "    Train model\n",
    "    '''\n",
    "    model = model_obj\n",
    "    print(model.fit(X_train, y_train, verbose=100))\n",
    "    \n",
    "    if cross_val:\n",
    "        cv_scores = cross_val_score(model, X_train, y_train, cv = num_folds, scoring = custom_smape_score)\n",
    "        print(\"Cross_validation:\", cv_scores)\n",
    "    \n",
    "    td = plot_importance(model, X_train)\n",
    "    \n",
    "    return model, td"
   ]
  },
  {
   "cell_type": "code",
   "execution_count": 149,
   "metadata": {},
   "outputs": [
    {
     "name": "stdout",
     "output_type": "stream",
     "text": [
      "0:\tlearn: 9012.8665147\ttotal: 12.2ms\tremaining: 3.64s\n",
      "100:\tlearn: 7118.3034321\ttotal: 1.53s\tremaining: 3.01s\n",
      "200:\tlearn: 6903.1631277\ttotal: 2.59s\tremaining: 1.27s\n",
      "299:\tlearn: 6757.4540533\ttotal: 3.5s\tremaining: 0us\n",
      "<catboost.core.CatBoostRegressor object at 0x2982a4050>\n",
      "0:\tlearn: 9279.2765225\ttotal: 7.74ms\tremaining: 2.31s\n",
      "50:\tlearn: 7402.8266948\ttotal: 433ms\tremaining: 2.12s\n",
      "100:\tlearn: 7061.0019140\ttotal: 956ms\tremaining: 1.88s\n",
      "150:\tlearn: 6910.9332843\ttotal: 1.53s\tremaining: 1.51s\n",
      "200:\tlearn: 6806.2805954\ttotal: 1.99s\tremaining: 978ms\n",
      "250:\tlearn: 6726.7361514\ttotal: 2.39s\tremaining: 466ms\n",
      "299:\tlearn: 6640.4158534\ttotal: 2.78s\tremaining: 0us\n",
      "0:\tlearn: 9599.9459978\ttotal: 11ms\tremaining: 3.3s\n",
      "50:\tlearn: 7730.1508827\ttotal: 551ms\tremaining: 2.69s\n",
      "100:\tlearn: 7417.4571312\ttotal: 1.14s\tremaining: 2.25s\n",
      "150:\tlearn: 7284.6298921\ttotal: 1.57s\tremaining: 1.55s\n",
      "200:\tlearn: 7185.1115925\ttotal: 2.07s\tremaining: 1.02s\n",
      "250:\tlearn: 7114.8526407\ttotal: 2.63s\tremaining: 513ms\n",
      "299:\tlearn: 7065.8452779\ttotal: 3.12s\tremaining: 0us\n",
      "0:\tlearn: 8391.6930834\ttotal: 46.8ms\tremaining: 14s\n",
      "50:\tlearn: 6933.4974175\ttotal: 1.52s\tremaining: 7.43s\n",
      "100:\tlearn: 6639.7531383\ttotal: 2.46s\tremaining: 4.86s\n",
      "150:\tlearn: 6466.5480221\ttotal: 2.96s\tremaining: 2.92s\n",
      "200:\tlearn: 6344.1381139\ttotal: 3.36s\tremaining: 1.66s\n",
      "250:\tlearn: 6293.6862620\ttotal: 3.74s\tremaining: 730ms\n",
      "299:\tlearn: 6251.6618912\ttotal: 4.07s\tremaining: 0us\n",
      "0:\tlearn: 8514.4284015\ttotal: 6.55ms\tremaining: 1.96s\n",
      "50:\tlearn: 7030.0844699\ttotal: 391ms\tremaining: 1.91s\n",
      "100:\tlearn: 6769.4597780\ttotal: 771ms\tremaining: 1.52s\n",
      "150:\tlearn: 6645.3804892\ttotal: 1.14s\tremaining: 1.12s\n",
      "200:\tlearn: 6558.1080404\ttotal: 1.5s\tremaining: 739ms\n",
      "250:\tlearn: 6501.2932122\ttotal: 1.85s\tremaining: 361ms\n",
      "299:\tlearn: 6401.5528303\ttotal: 2.21s\tremaining: 0us\n",
      "0:\tlearn: 9231.7583906\ttotal: 6.79ms\tremaining: 2.03s\n",
      "50:\tlearn: 7361.3506831\ttotal: 378ms\tremaining: 1.85s\n",
      "100:\tlearn: 7039.9858556\ttotal: 803ms\tremaining: 1.58s\n",
      "150:\tlearn: 6892.2610289\ttotal: 1.56s\tremaining: 1.54s\n",
      "200:\tlearn: 6787.4477398\ttotal: 1.92s\tremaining: 945ms\n",
      "250:\tlearn: 6698.4494457\ttotal: 2.36s\tremaining: 461ms\n",
      "299:\tlearn: 6617.9360537\ttotal: 2.79s\tremaining: 0us\n",
      "Cross_validation: [-1.97421293 -1.97300264 -1.97249251 -1.97332895 -1.9712754 ]\n"
     ]
    },
    {
     "data": {
      "image/png": "[encoded data removed]",
      "text/plain": [
       "<Figure size 640x480 with 1 Axes>"
      ]
     },
     "metadata": {},
     "output_type": "display_data"
    }
   ],
   "source": [
    "params = {\n",
    "    'iterations': 300,\n",
    "    'learning_rate': 0.05,\n",
    "    'depth': 4,\n",
    "    'loss_function': 'RMSE',\n",
    "    'random_state': 42,\n",
    "    'l2_leaf_reg': 20,\n",
    "    'verbose': 50\n",
    "}\n",
    "\n",
    "model, features = train_model(CatBoostRegressor(**params),\n",
    "                              X_train, \n",
    "                              y_train,\n",
    "                              5,\n",
    "                              cross_val=True)"
   ]
  },
  {
   "cell_type": "code",
   "execution_count": 150,
   "metadata": {},
   "outputs": [],
   "source": [
    "y_pred_train = model.predict(X_train)\n",
    "y_pred_test = model.predict(X_test)"
   ]
  },
  {
   "cell_type": "code",
   "execution_count": 151,
   "metadata": {},
   "outputs": [
    {
     "name": "stdout",
     "output_type": "stream",
     "text": [
      "Train SMAPE:  1.9727538254692087\n",
      "Test SMAPE:  1.9731389101972918\n",
      "Train RMSE:  6757.4540574403045\n",
      "Test RMSE:  7644.84841233614\n",
      "Train MSE:  607.2044776887644\n",
      "Test MSE:  657.8900073103945\n"
     ]
    }
   ],
   "source": [
    "print('Train SMAPE: ', SMAPE(y_train, y_pred_train))\n",
    "print('Test SMAPE: ', SMAPE(y_test, y_pred_test))\n",
    "\n",
    "print('Train RMSE: ',  np.sqrt(mean_squared_error(y_train, y_pred_train)))\n",
    "print('Test RMSE: ',  np.sqrt(mean_squared_error(y_test, y_pred_test)))\n",
    "\n",
    "print('Train MSE: ',  mean_absolute_error(y_train, y_pred_train))\n",
    "print('Test MSE: ',  mean_absolute_error(y_test, y_pred_test))"
   ]
  },
  {
   "cell_type": "code",
   "execution_count": null,
   "metadata": {},
   "outputs": [],
   "source": []
  }
 ],
 "metadata": {
  "kernelspec": {
   "display_name": "base",
   "language": "python",
   "name": "python3"
  },
  "language_info": {
   "codemirror_mode": {
    "name": "ipython",
    "version": 3
   },
   "file_extension": ".py",
   "mimetype": "text/x-python",
   "name": "python",
   "nbconvert_exporter": "python",
   "pygments_lexer": "ipython3",
   "version": "3.11.4"
  }
 },
 "nbformat": 4,
 "nbformat_minor": 2
}
