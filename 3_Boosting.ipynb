{
 "cells": [
  {
   "cell_type": "code",
   "execution_count": 43,
   "metadata": {},
   "outputs": [],
   "source": [
    "import pandas as pd \n",
    "import numpy as np \n",
    "from math import sqrt\n",
    "\n",
    "import seaborn as sns\n",
    "import matplotlib.pyplot as plt\n",
    "\n",
    "from catboost import CatBoostRegressor\n",
    "\n",
    "from sklearn.preprocessing import LabelEncoder, StandardScaler, MinMaxScaler, OneHotEncoder\n",
    "from sklearn.metrics import mean_absolute_error, mean_squared_error\n",
    "from sklearn.model_selection import train_test_split, cross_val_score\n"
   ]
  },
  {
   "cell_type": "code",
   "execution_count": 45,
   "metadata": {},
   "outputs": [],
   "source": [
    "pd.set_option('display.max_columns', None)"
   ]
  },
  {
   "cell_type": "code",
   "execution_count": 46,
   "metadata": {},
   "outputs": [],
   "source": [
    "df = pd.read_csv('dataset.csv',index_col=0)"
   ]
  },
  {
   "cell_type": "markdown",
   "metadata": {},
   "source": [
    "# Prepare data"
   ]
  },
  {
   "cell_type": "code",
   "execution_count": 47,
   "metadata": {},
   "outputs": [],
   "source": [
    "df.drop(['date_install','first_command_time','birthday','sex','time_confirm_email'],axis=1,inplace=True)"
   ]
  },
  {
   "cell_type": "code",
   "execution_count": 48,
   "metadata": {},
   "outputs": [],
   "source": [
    "int_cols = df.select_dtypes(include=['int', 'float']).columns\n",
    "int_cols = int_cols.drop('target_game_currency')\n",
    "obj_cols = ['country','network_name']"
   ]
  },
  {
   "cell_type": "code",
   "execution_count": 49,
   "metadata": {},
   "outputs": [],
   "source": [
    "def prepare_obj_data(df, obj_cols):\n",
    "    '''\n",
    "    Подготовка колонок с типом данных object\n",
    "    \n",
    "    Args:\n",
    "        df: pd.DataFrame\n",
    "        obj_cols: list of str \n",
    "    Returns:\n",
    "        pd.DataFrame\n",
    "    '''\n",
    "    \n",
    "    cheat_count_is_cheater = df['is_cheater'].value_counts().index[0]\n",
    "    cheat_count_has_email = df['has_email'].value_counts().index[0]\n",
    "    \n",
    "    df['is_cheater'] = df['is_cheater'].fillna(cheat_count_is_cheater)\n",
    "    df['has_email'] = df['has_email'].fillna(cheat_count_has_email)\n",
    "    \n",
    "    df['country'] = df['country'].fillna('other')\n",
    "    df['network_name'] = df['network_name'].fillna('other')\n",
    "\n",
    "    encoder = OneHotEncoder(sparse=False, handle_unknown='ignore')\n",
    "    for column in obj_cols:\n",
    "        encoded_data = encoder.fit_transform(df[[column]])\n",
    "        encoded_df = pd.DataFrame(encoded_data, columns=encoder.get_feature_names_out([column]))\n",
    "        df = pd.concat([df, encoded_df], axis=1)\n",
    "    \n",
    "    df.drop(obj_cols, axis=1, inplace=True)\n",
    "        \n",
    "    return df\n"
   ]
  },
  {
   "cell_type": "code",
   "execution_count": 50,
   "metadata": {},
   "outputs": [
    {
     "name": "stderr",
     "output_type": "stream",
     "text": [
      "/Library/Frameworks/Python.framework/Versions/3.11/lib/python3.11/site-packages/sklearn/preprocessing/_encoders.py:972: FutureWarning: `sparse` was renamed to `sparse_output` in version 1.2 and will be removed in 1.4. `sparse_output` is ignored unless you leave `sparse` to its default value.\n",
      "  warnings.warn(\n",
      "/Library/Frameworks/Python.framework/Versions/3.11/lib/python3.11/site-packages/sklearn/preprocessing/_encoders.py:972: FutureWarning: `sparse` was renamed to `sparse_output` in version 1.2 and will be removed in 1.4. `sparse_output` is ignored unless you leave `sparse` to its default value.\n",
      "  warnings.warn(\n"
     ]
    }
   ],
   "source": [
    "df = prepare_obj_data(df, obj_cols)"
   ]
  },
  {
   "cell_type": "code",
   "execution_count": 51,
   "metadata": {},
   "outputs": [],
   "source": [
    "X = df.drop('target_game_currency', axis = 1)\n",
    "y = df['target_game_currency']"
   ]
  },
  {
   "cell_type": "code",
   "execution_count": 52,
   "metadata": {},
   "outputs": [],
   "source": [
    "y_stratified = (y > 0).astype(int)\n",
    "X_train, X_test, y_train, y_test = train_test_split(X, y, test_size=0.10, stratify=y_stratified, random_state=42)\n"
   ]
  },
  {
   "cell_type": "markdown",
   "metadata": {},
   "source": [
    "## Catboost"
   ]
  },
  {
   "cell_type": "code",
   "execution_count": 53,
   "metadata": {},
   "outputs": [],
   "source": [
    "def plot_importance(model, X):\n",
    "    '''\n",
    "    Function for plot regression coef\n",
    "    '''\n",
    "    try:\n",
    "        fold_importance_df = pd.DataFrame()\n",
    "        fold_importance_df[\"feature\"] = X.columns\n",
    "        fold_importance_df[\"importance\"] = model.feature_importances_\n",
    "        td = fold_importance_df.sort_values('importance', ascending=False)\n",
    "        sns.barplot(x=\"importance\", y=\"feature\", data=td.head(10), palette=\"Blues_d\")\n",
    "        plt.show()\n",
    "    except:\n",
    "        return []"
   ]
  },
  {
   "cell_type": "code",
   "execution_count": 54,
   "metadata": {},
   "outputs": [],
   "source": [
    "def SMAPE(y_true, y_pred):\n",
    "    \"\"\"\n",
    "    SMAPE score\n",
    "    \"\"\"\n",
    "    denominator = (np.abs(y_true) + np.abs(y_pred))\n",
    "    diff = np.where(denominator == 0, 0, 2 * np.abs(y_true - y_pred) / denominator)\n",
    "    return np.mean(diff)\n",
    "\n",
    "\n",
    "def custom_smape_score(estimator, X, y):\n",
    "    '''\n",
    "    SMAP for cross-validation\n",
    "    '''\n",
    "    y_pred = estimator.predict(X)\n",
    "    smape = SMAPE(y, y_pred)\n",
    "    return -smape"
   ]
  },
  {
   "cell_type": "code",
   "execution_count": 55,
   "metadata": {},
   "outputs": [],
   "source": [
    "def train_model(model_obj, X_train, y_train, num_folds ,scoring,cross_val = False):\n",
    "    '''\n",
    "    Train model\n",
    "    '''\n",
    "    model = model_obj\n",
    "    print(model.fit(X_train, y_train, verbose=50))\n",
    "    \n",
    "    if cross_val:\n",
    "        cv_scores = cross_val_score(model, X_train, y_train, cv = num_folds, scoring = scoring)\n",
    "        print(\"Cross_validation:\", cv_scores)\n",
    "    \n",
    "    td = plot_importance(model, X_train)\n",
    "    \n",
    "    return model, td"
   ]
  },
  {
   "cell_type": "code",
   "execution_count": 56,
   "metadata": {},
   "outputs": [
    {
     "name": "stdout",
     "output_type": "stream",
     "text": [
      "0:\tlearn: 8843.6340269\ttotal: 19.7ms\tremaining: 3.92s\n",
      "50:\tlearn: 7779.5215484\ttotal: 525ms\tremaining: 1.53s\n",
      "100:\tlearn: 7612.3638013\ttotal: 992ms\tremaining: 972ms\n",
      "150:\tlearn: 7572.7592933\ttotal: 1.53s\tremaining: 496ms\n",
      "199:\tlearn: 7548.2183134\ttotal: 2.06s\tremaining: 0us\n",
      "<catboost.core.CatBoostRegressor object at 0x285ce6e90>\n",
      "0:\tlearn: 9029.1860012\ttotal: 12.8ms\tremaining: 2.55s\n",
      "50:\tlearn: 7914.3110739\ttotal: 435ms\tremaining: 1.27s\n"
     ]
    }
   ],
   "source": [
    "params = {\n",
    "    'iterations': 200,\n",
    "    'depth': 3,\n",
    "    'loss_function': 'RMSE',\n",
    "    'random_state': 42,\n",
    "    'l2_leaf_reg': 20,\n",
    "    'verbose': 50,\n",
    "    'early_stopping_rounds': 20 \n",
    "}\n",
    "\n",
    "model, features = train_model(CatBoostRegressor(**params),\n",
    "                              X_train, \n",
    "                              y_train,\n",
    "                              5,\n",
    "                              scoring='neg_mean_squared_error',\n",
    "                              cross_val=True)"
   ]
  },
  {
   "cell_type": "code",
   "execution_count": null,
   "metadata": {},
   "outputs": [],
   "source": [
    "y_pred_train = model.predict(X_train)\n",
    "y_pred_test = model.predict(X_test)"
   ]
  },
  {
   "cell_type": "code",
   "execution_count": null,
   "metadata": {},
   "outputs": [
    {
     "name": "stdout",
     "output_type": "stream",
     "text": [
      "Train SMAPE:  1.961024381159916\n",
      "Test SMAPE:  1.9617003634856458\n",
      "Train RMSE:  0.9323667958418318\n",
      "Test RMSE:  0.9368665233170659\n",
      "Train MSE:  0.24815230913096625\n",
      "Test MSE:  0.24965902729179024\n"
     ]
    }
   ],
   "source": [
    "print('Train SMAPE: ', SMAPE(y_train, y_pred_train))\n",
    "print('Test SMAPE: ', SMAPE(y_test, y_pred_test))\n",
    "\n",
    "print('Train RMSE: ',  np.sqrt(mean_squared_error(y_train, y_pred_train)))\n",
    "print('Test RMSE: ',  np.sqrt(mean_squared_error(y_test, y_pred_test)))\n",
    "\n",
    "print('Train MSE: ',  mean_absolute_error(y_train, y_pred_train))\n",
    "print('Test MSE: ',  mean_absolute_error(y_test, y_pred_test))"
   ]
  }
 ],
 "metadata": {
  "kernelspec": {
   "display_name": "base",
   "language": "python",
   "name": "python3"
  },
  "language_info": {
   "codemirror_mode": {
    "name": "ipython",
    "version": 3
   },
   "file_extension": ".py",
   "mimetype": "text/x-python",
   "name": "python",
   "nbconvert_exporter": "python",
   "pygments_lexer": "ipython3",
   "version": "3.11.4"
  }
 },
 "nbformat": 4,
 "nbformat_minor": 2
}
