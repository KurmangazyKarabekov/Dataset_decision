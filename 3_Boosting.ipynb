{
 "cells": [
  {
   "cell_type": "code",
   "execution_count": 1,
   "metadata": {},
   "outputs": [],
   "source": [
    "import pandas as pd \n",
    "import numpy as np \n",
    "from math import sqrt\n",
    "\n",
    "import seaborn as sns\n",
    "import matplotlib.pyplot as plt\n",
    "\n",
    "from catboost import CatBoostRegressor\n",
    "\n",
    "from sklearn.preprocessing import  StandardScaler, OneHotEncoder\n",
    "from sklearn.metrics import mean_absolute_error, mean_squared_error\n",
    "from sklearn.model_selection import train_test_split, cross_val_score\n"
   ]
  },
  {
   "cell_type": "code",
   "execution_count": 2,
   "metadata": {},
   "outputs": [],
   "source": [
    "pd.set_option('display.max_columns', None)"
   ]
  },
  {
   "cell_type": "code",
   "execution_count": 3,
   "metadata": {},
   "outputs": [],
   "source": [
    "df = pd.read_csv('dataset.csv',index_col=0)"
   ]
  },
  {
   "cell_type": "markdown",
   "metadata": {},
   "source": [
    "# Prepare data"
   ]
  },
  {
   "cell_type": "code",
   "execution_count": 4,
   "metadata": {},
   "outputs": [],
   "source": [
    "df.drop(['date_install','first_command_time','birthday','sex','time_confirm_email'],axis=1,inplace=True)"
   ]
  },
  {
   "cell_type": "code",
   "execution_count": 5,
   "metadata": {},
   "outputs": [],
   "source": [
    "int_cols = df.select_dtypes(include=['int', 'float']).columns\n",
    "int_cols = int_cols.drop('target_game_currency')\n",
    "obj_cols = ['country','network_name']"
   ]
  },
  {
   "cell_type": "code",
   "execution_count": 6,
   "metadata": {},
   "outputs": [],
   "source": [
    "def prepare_obj_data(df, obj_cols):\n",
    "    '''\n",
    "    Prepare data with type object\n",
    "    \n",
    "    Args:\n",
    "        df: pd.DataFrame\n",
    "        obj_cols: list of str \n",
    "    Returns:\n",
    "        pd.DataFrame\n",
    "    '''\n",
    "    \n",
    "    cheat_count_is_cheater = df['is_cheater'].value_counts().index[0]\n",
    "    cheat_count_has_email = df['has_email'].value_counts().index[0]\n",
    "    \n",
    "    df['is_cheater'] = df['is_cheater'].fillna(cheat_count_is_cheater)\n",
    "    df['has_email'] = df['has_email'].fillna(cheat_count_has_email)\n",
    "    \n",
    "    df['country'] = df['country'].fillna('other')\n",
    "    df['network_name'] = df['network_name'].fillna('other')\n",
    "\n",
    "    encoder = OneHotEncoder(sparse=False, handle_unknown='ignore')\n",
    "    for column in obj_cols:\n",
    "        encoded_data = encoder.fit_transform(df[[column]])\n",
    "        encoded_df = pd.DataFrame(encoded_data, columns=encoder.get_feature_names_out([column]))\n",
    "        df = pd.concat([df, encoded_df], axis=1)\n",
    "    \n",
    "    df.drop(obj_cols, axis=1, inplace=True)\n",
    "        \n",
    "    return df\n"
   ]
  },
  {
   "cell_type": "code",
   "execution_count": 7,
   "metadata": {},
   "outputs": [
    {
     "name": "stderr",
     "output_type": "stream",
     "text": [
      "/Library/Frameworks/Python.framework/Versions/3.11/lib/python3.11/site-packages/sklearn/preprocessing/_encoders.py:972: FutureWarning: `sparse` was renamed to `sparse_output` in version 1.2 and will be removed in 1.4. `sparse_output` is ignored unless you leave `sparse` to its default value.\n",
      "  warnings.warn(\n",
      "/Library/Frameworks/Python.framework/Versions/3.11/lib/python3.11/site-packages/sklearn/preprocessing/_encoders.py:972: FutureWarning: `sparse` was renamed to `sparse_output` in version 1.2 and will be removed in 1.4. `sparse_output` is ignored unless you leave `sparse` to its default value.\n",
      "  warnings.warn(\n"
     ]
    }
   ],
   "source": [
    "df = prepare_obj_data(df, obj_cols)"
   ]
  },
  {
   "cell_type": "code",
   "execution_count": 8,
   "metadata": {},
   "outputs": [],
   "source": [
    "X = df.drop('target_game_currency', axis = 1)\n",
    "y = df['target_game_currency']"
   ]
  },
  {
   "cell_type": "code",
   "execution_count": 9,
   "metadata": {},
   "outputs": [],
   "source": [
    "y_stratified = (y > 0).astype(int)\n",
    "X_train, X_test, y_train, y_test = train_test_split(X, y, test_size=0.10, stratify=y_stratified, random_state=42)\n"
   ]
  },
  {
   "cell_type": "markdown",
   "metadata": {},
   "source": [
    "## Catboost"
   ]
  },
  {
   "cell_type": "code",
   "execution_count": 10,
   "metadata": {},
   "outputs": [],
   "source": [
    "def plot_importance(model, X):\n",
    "    '''\n",
    "    Function for plot regression coef\n",
    "    '''\n",
    "    try:\n",
    "        fold_importance_df = pd.DataFrame()\n",
    "        fold_importance_df[\"feature\"] = X.columns\n",
    "        fold_importance_df[\"importance\"] = model.feature_importances_\n",
    "        td = fold_importance_df.sort_values('importance', ascending=False)\n",
    "        sns.barplot(x=\"importance\", y=\"feature\", data=td.head(10), palette=\"Blues_d\")\n",
    "        plt.show()\n",
    "    except:\n",
    "        return []"
   ]
  },
  {
   "cell_type": "code",
   "execution_count": 11,
   "metadata": {},
   "outputs": [],
   "source": [
    "def SMAPE(y_true, y_pred):\n",
    "    \"\"\"\n",
    "    SMAPE score\n",
    "    \"\"\"\n",
    "    denominator = (np.abs(y_true) + np.abs(y_pred))\n",
    "    diff = np.where(denominator == 0, 0, 2 * np.abs(y_true - y_pred) / denominator)\n",
    "    return np.mean(diff)\n",
    "\n",
    "\n",
    "def custom_smape_score(estimator, X, y):\n",
    "    '''\n",
    "    SMAP for cross-validation\n",
    "    '''\n",
    "    y_pred = estimator.predict(X)\n",
    "    smape = SMAPE(y, y_pred)\n",
    "    return -smape"
   ]
  },
  {
   "cell_type": "code",
   "execution_count": 22,
   "metadata": {},
   "outputs": [],
   "source": [
    "def train_model(model_obj, X_train, y_train, num_folds ,scoring,cross_val = False):\n",
    "    '''\n",
    "    Train model\n",
    "    '''\n",
    "    model = model_obj\n",
    "    print(model.fit(X_train, y_train, verbose=50, plot=True))\n",
    "    \n",
    "    if cross_val:\n",
    "        cv_scores = cross_val_score(model, X_train, y_train, cv = num_folds, scoring = scoring)\n",
    "        print(\"Cross_validation:\", cv_scores)\n",
    "    \n",
    "    td = plot_importance(model, X_train)\n",
    "    \n",
    "    return model, td"
   ]
  },
  {
   "cell_type": "code",
   "execution_count": 34,
   "metadata": {},
   "outputs": [
    {
     "data": {
      "application/vnd.jupyter.widget-view+json": {
       "model_id": "88905e926bf043af9236f43e89394e95",
       "version_major": 2,
       "version_minor": 0
      },
      "text/plain": [
       "MetricVisualizer(layout=Layout(align_self='stretch', height='500px'))"
      ]
     },
     "metadata": {},
     "output_type": "display_data"
    },
    {
     "name": "stdout",
     "output_type": "stream",
     "text": [
      "0:\tlearn: 484.1682889\ttotal: 113ms\tremaining: 25.8s\n",
      "50:\tlearn: 433.8854273\ttotal: 5.76s\tremaining: 20.2s\n",
      "100:\tlearn: 428.9690557\ttotal: 10.3s\tremaining: 13.1s\n",
      "150:\tlearn: 428.4892535\ttotal: 12.8s\tremaining: 6.71s\n",
      "200:\tlearn: 427.9060742\ttotal: 17.6s\tremaining: 2.54s\n",
      "229:\tlearn: 427.5022304\ttotal: 21s\tremaining: 0us\n",
      "<catboost.core.CatBoostRegressor object at 0x2ea4d5290>\n",
      "0:\tlearn: 488.9098849\ttotal: 82.3ms\tremaining: 18.8s\n",
      "50:\tlearn: 437.3353180\ttotal: 4.84s\tremaining: 17s\n",
      "100:\tlearn: 431.6915648\ttotal: 9.32s\tremaining: 11.9s\n",
      "150:\tlearn: 430.5938317\ttotal: 14s\tremaining: 7.32s\n",
      "200:\tlearn: 430.1702938\ttotal: 18.6s\tremaining: 2.68s\n",
      "229:\tlearn: 430.0639143\ttotal: 21.3s\tremaining: 0us\n",
      "0:\tlearn: 486.9009092\ttotal: 93.9ms\tremaining: 21.5s\n",
      "50:\tlearn: 436.7346234\ttotal: 4.66s\tremaining: 16.3s\n",
      "100:\tlearn: 432.6951143\ttotal: 9.44s\tremaining: 12.1s\n",
      "150:\tlearn: 431.1393834\ttotal: 14.1s\tremaining: 7.4s\n",
      "200:\tlearn: 430.7188505\ttotal: 16.4s\tremaining: 2.36s\n",
      "229:\tlearn: 430.7100463\ttotal: 17.7s\tremaining: 0us\n",
      "0:\tlearn: 482.8489335\ttotal: 66.4ms\tremaining: 15.2s\n",
      "50:\tlearn: 432.8772796\ttotal: 3.98s\tremaining: 14s\n",
      "100:\tlearn: 428.3796872\ttotal: 8.54s\tremaining: 10.9s\n",
      "150:\tlearn: 427.7214164\ttotal: 13.5s\tremaining: 7.05s\n",
      "200:\tlearn: 427.2823732\ttotal: 20s\tremaining: 2.89s\n",
      "229:\tlearn: 427.0467304\ttotal: 23s\tremaining: 0us\n",
      "0:\tlearn: 489.9957884\ttotal: 66.5ms\tremaining: 15.2s\n",
      "50:\tlearn: 442.0240588\ttotal: 4.89s\tremaining: 17.2s\n",
      "100:\tlearn: 436.2372611\ttotal: 9.19s\tremaining: 11.7s\n",
      "150:\tlearn: 435.1489874\ttotal: 13.7s\tremaining: 7.14s\n",
      "200:\tlearn: 434.8422178\ttotal: 18.2s\tremaining: 2.62s\n",
      "229:\tlearn: 434.4679414\ttotal: 20.9s\tremaining: 0us\n",
      "0:\tlearn: 471.8314515\ttotal: 98.7ms\tremaining: 22.6s\n",
      "50:\tlearn: 421.8151064\ttotal: 4.57s\tremaining: 16s\n",
      "100:\tlearn: 419.4796734\ttotal: 7.98s\tremaining: 10.2s\n",
      "150:\tlearn: 417.6793637\ttotal: 10s\tremaining: 5.24s\n",
      "200:\tlearn: 417.5245545\ttotal: 12.7s\tremaining: 1.83s\n",
      "229:\tlearn: 417.5245545\ttotal: 15.6s\tremaining: 0us\n",
      "Cross_validation: [-417.19417448 -418.47560015 -434.83371395 -403.77859593 -478.60685987]\n"
     ]
    },
    {
     "data": {
      "image/png": "[encoded data removed]",
      "text/plain": [
       "<Figure size 640x480 with 1 Axes>"
      ]
     },
     "metadata": {},
     "output_type": "display_data"
    }
   ],
   "source": [
    "params = {\n",
    "    'iterations': 230,\n",
    "    'depth': 3,\n",
    "    'loss_function': 'MAE',\n",
    "    'random_state': 42,\n",
    "    'l2_leaf_reg': 20,\n",
    "    'verbose': 50,\n",
    "    'early_stopping_rounds': 20,\n",
    "    'thread_count': -1\n",
    "}\n",
    "\n",
    "model, features = train_model(CatBoostRegressor(**params),\n",
    "                              X_train, \n",
    "                              y_train,\n",
    "                              5,\n",
    "                              scoring='neg_mean_absolute_error',\n",
    "                              cross_val=True)"
   ]
  },
  {
   "cell_type": "code",
   "execution_count": 35,
   "metadata": {},
   "outputs": [],
   "source": [
    "y_pred_train = model.predict(X_train)\n",
    "y_pred_test = model.predict(X_test)"
   ]
  },
  {
   "cell_type": "code",
   "execution_count": 36,
   "metadata": {},
   "outputs": [
    {
     "name": "stdout",
     "output_type": "stream",
     "text": [
      "Train SMAPE:  1.9775113990451205\n",
      "Test SMAPE:  1.9779116425657624\n",
      "Train RMSE:  8313.044680082789\n",
      "Test RMSE:  7197.929424031383\n",
      "Train MAE:  427.50223179291436\n",
      "Test MAE:  378.8722657599412\n"
     ]
    }
   ],
   "source": [
    "print('Train SMAPE: ', SMAPE(y_train, y_pred_train))\n",
    "print('Test SMAPE: ', SMAPE(y_test, y_pred_test))\n",
    "\n",
    "print('Train RMSE: ',  np.sqrt(mean_squared_error(y_train, y_pred_train)))\n",
    "print('Test RMSE: ',  np.sqrt(mean_squared_error(y_test, y_pred_test)))\n",
    "\n",
    "print('Train MAE: ',  mean_absolute_error(y_train, y_pred_train))\n",
    "print('Test MAE: ',  mean_absolute_error(y_test, y_pred_test))"
   ]
  }
 ],
 "metadata": {
  "kernelspec": {
   "display_name": "base",
   "language": "python",
   "name": "python3"
  },
  "language_info": {
   "codemirror_mode": {
    "name": "ipython",
    "version": 3
   },
   "file_extension": ".py",
   "mimetype": "text/x-python",
   "name": "python",
   "nbconvert_exporter": "python",
   "pygments_lexer": "ipython3",
   "version": "3.11.4"
  }
 },
 "nbformat": 4,
 "nbformat_minor": 2
}
