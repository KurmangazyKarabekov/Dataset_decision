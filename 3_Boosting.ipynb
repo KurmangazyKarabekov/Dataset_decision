{
 "cells": [
  {
   "cell_type": "code",
   "execution_count": 1,
   "metadata": {},
   "outputs": [],
   "source": [
    "import pandas as pd \n",
    "import numpy as np \n",
    "\n",
    "import seaborn as sns\n",
    "import matplotlib.pyplot as plt\n",
    "\n",
    "from catboost import CatBoostRegressor\n",
    "import xgboost as xgb\n",
    "\n",
    "from sklearn.preprocessing import LabelEncoder\n",
    "from sklearn.metrics import mean_absolute_error, mean_squared_error\n",
    "from sklearn.model_selection import train_test_split, cross_val_score\n"
   ]
  },
  {
   "cell_type": "code",
   "execution_count": 2,
   "metadata": {},
   "outputs": [],
   "source": [
    "pd.set_option('display.max_columns', None)"
   ]
  },
  {
   "cell_type": "code",
   "execution_count": 3,
   "metadata": {},
   "outputs": [],
   "source": [
    "df = pd.read_csv('dataset.csv',index_col=0)"
   ]
  },
  {
   "cell_type": "markdown",
   "metadata": {},
   "source": [
    "# Prepare data"
   ]
  },
  {
   "cell_type": "code",
   "execution_count": 4,
   "metadata": {},
   "outputs": [],
   "source": [
    "int_cols = df.select_dtypes(include=['int', 'float']).columns\n",
    "int_cols = int_cols.drop('target_game_currency')\n",
    "obj_cols = ['country','network_name','sex','is_cheater','has_email']"
   ]
  },
  {
   "cell_type": "code",
   "execution_count": 5,
   "metadata": {},
   "outputs": [],
   "source": [
    "def prepare_obj_data(df, obj_cols):\n",
    "    '''\n",
    "    Подготовка колонрк с типом данных object\n",
    "    \n",
    "    Arg:\n",
    "        df: pd.DataFrame\n",
    "        obj_col: str \n",
    "    Return:\n",
    "        pd.DataFrame\n",
    "    '''\n",
    "    label_encoder = LabelEncoder()\n",
    "    for column in df[obj_cols]:\n",
    "        encoded_column = label_encoder.fit_transform(df[column])\n",
    "        new_column_name = column + \"_level\"\n",
    "        df[new_column_name] = encoded_column\n",
    "    df.drop(obj_cols,axis=1,inplace=True)\n",
    "        \n",
    "    return df"
   ]
  },
  {
   "cell_type": "code",
   "execution_count": 6,
   "metadata": {},
   "outputs": [],
   "source": [
    "df = prepare_obj_data(df, obj_cols)"
   ]
  },
  {
   "cell_type": "code",
   "execution_count": 7,
   "metadata": {},
   "outputs": [],
   "source": [
    "df.drop(['date_install','first_command_time','birthday','time_confirm_email'],axis=1,inplace=True)"
   ]
  },
  {
   "cell_type": "code",
   "execution_count": 8,
   "metadata": {},
   "outputs": [],
   "source": [
    "X = df.drop('target_game_currency', axis = 1)\n",
    "y = df['target_game_currency']"
   ]
  },
  {
   "cell_type": "code",
   "execution_count": 9,
   "metadata": {},
   "outputs": [],
   "source": [
    "y_stratified = (y > 0).astype(int)\n",
    "X_train, X_test, y_train, y_test = train_test_split(X, y, test_size=0.33, stratify=y_stratified, random_state=42)\n"
   ]
  },
  {
   "cell_type": "markdown",
   "metadata": {},
   "source": [
    "## Catboost"
   ]
  },
  {
   "cell_type": "code",
   "execution_count": 10,
   "metadata": {},
   "outputs": [],
   "source": [
    "def plot_importance(model, X):\n",
    "    '''\n",
    "    Function for plot regression coef\n",
    "    '''\n",
    "    try:\n",
    "        fold_importance_df = pd.DataFrame()\n",
    "        fold_importance_df[\"feature\"] = X.columns\n",
    "        fold_importance_df[\"importance\"] = model.feature_importances_\n",
    "        td = fold_importance_df.sort_values('importance', ascending=False)\n",
    "        sns.barplot(x=\"importance\", y=\"feature\", data=td.head(10), palette=\"Blues_d\")\n",
    "        plt.show()\n",
    "    except:\n",
    "        return []"
   ]
  },
  {
   "cell_type": "code",
   "execution_count": 11,
   "metadata": {},
   "outputs": [],
   "source": [
    "def SMAPE(y_true, y_pred):\n",
    "    \"\"\"\n",
    "    SMAPE score\n",
    "    \"\"\"\n",
    "    denominator = (np.abs(y_true) + np.abs(y_pred))\n",
    "    diff = np.where(denominator == 0, 0, 2 * np.abs(y_true - y_pred) / denominator)\n",
    "    return np.mean(diff)\n",
    "\n",
    "\n",
    "def custom_smape_score(estimator, X, y):\n",
    "    '''\n",
    "    SMAP for cross-validation\n",
    "    '''\n",
    "    y_pred = estimator.predict(X)\n",
    "    smape = SMAPE(y, y_pred)\n",
    "    return -smape"
   ]
  },
  {
   "cell_type": "code",
   "execution_count": 17,
   "metadata": {},
   "outputs": [],
   "source": [
    "def train_model(model_obj, X_train, y_train, num_folds ,cross_val = False):\n",
    "    '''\n",
    "    Train model\n",
    "    '''\n",
    "    model = model_obj\n",
    "    print(model.fit(X_train, y_train, verbose=100))\n",
    "    \n",
    "    if cross_val:\n",
    "        cv_scores = cross_val_score(model, X_train, y_train, cv = num_folds, scoring = custom_smape_score)\n",
    "        print(\"Cross_validation:\", cv_scores)\n",
    "    \n",
    "    td = plot_importance(model, X_train)\n",
    "    \n",
    "    return model, td"
   ]
  },
  {
   "cell_type": "code",
   "execution_count": 146,
   "metadata": {},
   "outputs": [
    {
     "name": "stdout",
     "output_type": "stream",
     "text": [
      "0:\tlearn: 9026.8710114\ttotal: 12.4ms\tremaining: 3.69s\n",
      "100:\tlearn: 7392.9767616\ttotal: 980ms\tremaining: 1.93s\n",
      "200:\tlearn: 7215.5323586\ttotal: 1.8s\tremaining: 885ms\n",
      "299:\tlearn: 7121.1821305\ttotal: 2.53s\tremaining: 0us\n",
      "<catboost.core.CatBoostRegressor object at 0x2982086d0>\n",
      "0:\tlearn: 9297.2059214\ttotal: 6.76ms\tremaining: 2.02s\n",
      "50:\tlearn: 7688.0969501\ttotal: 329ms\tremaining: 1.61s\n",
      "100:\tlearn: 7409.2064794\ttotal: 649ms\tremaining: 1.28s\n",
      "150:\tlearn: 7284.6248123\ttotal: 973ms\tremaining: 960ms\n",
      "200:\tlearn: 7192.3366216\ttotal: 1.28s\tremaining: 633ms\n",
      "250:\tlearn: 7148.3434910\ttotal: 1.6s\tremaining: 313ms\n",
      "299:\tlearn: 7098.7833852\ttotal: 1.95s\tremaining: 0us\n",
      "0:\tlearn: 9618.3754072\ttotal: 19.9ms\tremaining: 5.95s\n",
      "50:\tlearn: 8045.3535102\ttotal: 478ms\tremaining: 2.33s\n",
      "100:\tlearn: 7821.5670935\ttotal: 932ms\tremaining: 1.83s\n",
      "150:\tlearn: 7708.1454754\ttotal: 1.44s\tremaining: 1.42s\n",
      "200:\tlearn: 7623.1276676\ttotal: 1.78s\tremaining: 877ms\n",
      "250:\tlearn: 7566.6363739\ttotal: 2.17s\tremaining: 423ms\n",
      "299:\tlearn: 7528.1269344\ttotal: 2.57s\tremaining: 0us\n",
      "0:\tlearn: 8399.9524692\ttotal: 6.48ms\tremaining: 1.94s\n",
      "50:\tlearn: 7195.0711715\ttotal: 389ms\tremaining: 1.9s\n",
      "100:\tlearn: 6897.3297021\ttotal: 765ms\tremaining: 1.51s\n",
      "150:\tlearn: 6755.1296311\ttotal: 1.11s\tremaining: 1.1s\n",
      "200:\tlearn: 6675.2855031\ttotal: 1.52s\tremaining: 751ms\n",
      "250:\tlearn: 6627.7548541\ttotal: 2.07s\tremaining: 404ms\n",
      "299:\tlearn: 6587.9787842\ttotal: 2.38s\tremaining: 0us\n",
      "0:\tlearn: 8519.6286423\ttotal: 9.17ms\tremaining: 2.74s\n",
      "50:\tlearn: 7259.9055620\ttotal: 401ms\tremaining: 1.96s\n",
      "100:\tlearn: 7061.4405216\ttotal: 717ms\tremaining: 1.41s\n",
      "150:\tlearn: 6978.3692248\ttotal: 1.05s\tremaining: 1.04s\n",
      "200:\tlearn: 6913.8487940\ttotal: 1.44s\tremaining: 707ms\n",
      "250:\tlearn: 6880.0975397\ttotal: 1.75s\tremaining: 342ms\n",
      "299:\tlearn: 6852.5104244\ttotal: 2.03s\tremaining: 0us\n",
      "0:\tlearn: 9243.0482200\ttotal: 5.75ms\tremaining: 1.72s\n",
      "50:\tlearn: 7659.0489874\ttotal: 293ms\tremaining: 1.43s\n",
      "100:\tlearn: 7409.6435499\ttotal: 687ms\tremaining: 1.35s\n",
      "150:\tlearn: 7321.2254825\ttotal: 1000ms\tremaining: 987ms\n",
      "200:\tlearn: 7247.2954555\ttotal: 1.29s\tremaining: 634ms\n",
      "250:\tlearn: 7190.5089856\ttotal: 1.58s\tremaining: 308ms\n",
      "299:\tlearn: 7139.5607462\ttotal: 1.9s\tremaining: 0us\n",
      "Cross_validation: [-1.97380392 -1.97250686 -1.9716446  -1.97273578 -1.9704219 ]\n"
     ]
    },
    {
     "data": {
      "image/png": "[encoded data removed]",
      "text/plain": [
       "<Figure size 640x480 with 1 Axes>"
      ]
     },
     "metadata": {},
     "output_type": "display_data"
    }
   ],
   "source": [
    "params = {\n",
    "    'iterations': 300,\n",
    "    'learning_rate': 0.05,\n",
    "    'depth': 4,\n",
    "    'loss_function': 'RMSE',\n",
    "    'random_state': 42,\n",
    "    'l2_leaf_reg': 10,\n",
    "    'verbose': 50\n",
    "}\n",
    "\n",
    "model, features = train_model(CatBoostRegressor(**params),\n",
    "                              X_train, \n",
    "                              y_train,\n",
    "                              5,\n",
    "                              cross_val=True)"
   ]
  },
  {
   "cell_type": "code",
   "execution_count": 147,
   "metadata": {},
   "outputs": [],
   "source": [
    "y_pred_train = model.predict(X_train)\n",
    "y_pred_test = model.predict(X_test)"
   ]
  },
  {
   "cell_type": "code",
   "execution_count": 148,
   "metadata": {},
   "outputs": [
    {
     "name": "stdout",
     "output_type": "stream",
     "text": [
      "Train SMAPE:  1.9722899849283162\n",
      "Test SMAPE:  1.9724160900175145\n",
      "Train RMSE:  7121.182130602498\n",
      "Test RMSE:  7515.540533600365\n",
      "Train MSE:  626.8145723391088\n",
      "Test MSE:  659.3878060038518\n"
     ]
    }
   ],
   "source": [
    "print('Train SMAPE: ', SMAPE(y_train, y_pred_train))\n",
    "print('Test SMAPE: ', SMAPE(y_test, y_pred_test))\n",
    "\n",
    "print('Train RMSE: ',  np.sqrt(mean_squared_error(y_train, y_pred_train)))\n",
    "print('Test RMSE: ',  np.sqrt(mean_squared_error(y_test, y_pred_test)))\n",
    "\n",
    "print('Train MSE: ',  mean_absolute_error(y_train, y_pred_train))\n",
    "print('Test MSE: ',  mean_absolute_error(y_test, y_pred_test))"
   ]
  },
  {
   "cell_type": "code",
   "execution_count": null,
   "metadata": {},
   "outputs": [],
   "source": []
  }
 ],
 "metadata": {
  "kernelspec": {
   "display_name": "base",
   "language": "python",
   "name": "python3"
  },
  "language_info": {
   "codemirror_mode": {
    "name": "ipython",
    "version": 3
   },
   "file_extension": ".py",
   "mimetype": "text/x-python",
   "name": "python",
   "nbconvert_exporter": "python",
   "pygments_lexer": "ipython3",
   "version": "3.11.4"
  }
 },
 "nbformat": 4,
 "nbformat_minor": 2
}
